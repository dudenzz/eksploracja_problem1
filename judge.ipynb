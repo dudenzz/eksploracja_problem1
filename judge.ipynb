{
 "cells": [
  {
   "cell_type": "markdown",
   "metadata": {},
   "source": [
    " # Przykładowy problem 1\n",
    "\n",
    " Witaj. Tu znajdziesz opis przykładowego problemu dotyczącego rekomendacji (być może pośrednio reguł asocjacyjnych, a może masz inny pomysł?). Problem stanowi implementacja systemu oceniającego. Ten notebook pokaże w jaki sposób wykonywana jest analiza jakości systemu oceniającego. Zapoznajmy się z poszczególnymi elementami systemu.\n",
    "\n",
    " ### Użytkownicy testowi\n",
    "\n",
    "  Na ich podstawie wyznaczana będzie jakość systemu oceniającego. Ocen wystawionych przez użytkowników testowych BEZWZGLĘDNIE NIE MOŻNA BRAĆ POD UWAGĘ podczas tworzenia systemu. Użytkownicy testowi, to po prostu losowo wybrani użytkownicy spośród wszystkich użytkowników. Ten losowy wybór znajduje się w pliku test_users.py - jego treści nie powinieneś zmieniać.\n",
    "\n"
   ]
  },
  {
   "cell_type": "code",
   "execution_count": 110,
   "metadata": {},
   "outputs": [],
   "source": [
    "import test_users\n",
    "import numpy as np\n",
    "import csv\n",
    "from tqdm import tqdm\n",
    "\n",
    "test_users = test_users.test_users"
   ]
  },
  {
   "cell_type": "markdown",
   "metadata": {},
   "source": [
    " ### Filmy i użytkownicy\n",
    "\n",
    " Poniższe klasy reprezentują koncepty filmu i użytkownika. Zauważ, że struktury danych ograniczają się do prostych identyfikatorów filmów i ocen wystawionych przez użytkowników, dodatkowo dla obydwóch typów tworzone są indeksy. Ta implementacja **nie** może ulec zmianie. Jeżeli chcesz mieć dostęp do innych danych (np. do gatunków filmów, albo do opisów niepochodzących ze źródła danych), umieść implementacje źródeł danych w swoim systemie rekomendacyjnym, a nie tutaj."
   ]
  },
  {
   "cell_type": "code",
   "execution_count": 35,
   "metadata": {},
   "outputs": [],
   "source": [
    "class Movie:\n",
    "    index = {}\n",
    "    name_index = {}\n",
    "    inner_index = {}\n",
    "    reverse_inner_index = {}\n",
    "    inner_index_gen = 0\n",
    "    def __init__(self, id, name):\n",
    "        self.id = id\n",
    "        self.name = name\n",
    "        self.ratings = []\n",
    "        self.genres = []\n",
    "        Movie.index[id] = self\n",
    "        Movie.name_index[name] = self\n",
    "    def add_rating(self, rating):\n",
    "        self.ratings.append(rating)\n",
    "    \n",
    "    \n",
    "class User:\n",
    "    index = {}\n",
    "    def __init__(self, id):\n",
    "        self.id = id\n",
    "        self.ratings = {}\n",
    "        User.index[id] = self\n",
    "    def add_rating(self, movie, rating):\n",
    "        movie.add_rating(rating)\n",
    "        self.ratings[movie.id] = rating\n",
    "    def __str__(self):\n",
    "        str_bldr = f'{self.id}'\n",
    "        return str_bldr\n",
    "\n",
    "        \n"
   ]
  },
  {
   "cell_type": "markdown",
   "metadata": {},
   "source": [
    "### Indeksy\n",
    "\n",
    "Indeksy danych wypełniane są danymi z plików.\n"
   ]
  },
  {
   "cell_type": "code",
   "execution_count": 36,
   "metadata": {},
   "outputs": [
    {
     "name": "stderr",
     "output_type": "stream",
     "text": [
      "100%|██████████| 20000263/20000263 [00:20<00:00, 960519.60it/s] \n"
     ]
    }
   ],
   "source": [
    "\n",
    "with open('data/movie.csv', encoding='utf-8') as file:\n",
    "    csv_reader = csv.reader(file)\n",
    "    csv_reader.__next__()\n",
    "    for line in csv_reader:\n",
    "        Movie(int(line[0]), line[1])\n",
    "\n",
    "with open('data/rating.csv', encoding='utf-8') as file:\n",
    "    csv_reader = csv.reader(file)\n",
    "    csv_reader.__next__()\n",
    "    for line in tqdm(csv_reader, total=20000263):\n",
    "        if not int(line[0]) in User.index.keys():\n",
    "            User(int(line[0]))\n",
    "        User.index[int(line[0])].add_rating(Movie.index[int(line[1])],float(line[2]))"
   ]
  },
  {
   "cell_type": "markdown",
   "metadata": {},
   "source": [
    " ### Systemy oceniające - klasa bazowa\n",
    "\n",
    " Każdy system oceniający ma dostęp do wszystkich użytkowników i ocen, które nie są ocenami użytkowników testowych. Można również zaimplementować metody doboru innych danych (np. gatunków, tagów, danych zewnętrznych). Poniżej znajduje się klasa bazowa - w jej inicjalizatorze wczytywane są dotyczące ocen wystawionych przez użytkowników nie będących testowymi."
   ]
  },
  {
   "cell_type": "code",
   "execution_count": null,
   "metadata": {},
   "outputs": [],
   "source": [
    "class RatingSystem:\n",
    "    def __init__(self):\n",
    "        self.users = {id : User.index[id] for id in User.index if id not in test_users}\n",
    "        self.movie_ratings = {}\n",
    "        for user in tqdm(self.users):\n",
    "            for movie in self.users[user].ratings:\n",
    "                if movie not in self.movie_ratings.keys():\n",
    "                    self.movie_ratings[movie] = [self.users[user].ratings[movie]]\n",
    "                else:\n",
    "                    self.movie_ratings[movie].append(self.users[user].ratings[movie])\n",
    "        \n",
    "    def rate(self, user, movie):\n",
    "        return\n"
   ]
  },
  {
   "cell_type": "markdown",
   "metadata": {},
   "source": [
    " ### Przykłady prostych systemów oceniających\n",
    "\n",
    " Poniższe przykłady są proste. Nie wykorzystują efektywnych rozwiązań (np. biblioteki numpy do obliczeń). Hipotezy, które te systemy realizują są bardzo naiwne. Twoim zadaniem jest napisanie systemu oceniającego, który będzie lepszy od tych systemów. Twój system będzie również porównany z systemami kolegów z grupy. Im wyższa pozycja w rankingu tym więcej punktów można uzyskać. Jeżeli zaimplementowany przez Ciebie system będzie lepszy niż system 'Naive Rating' otrzymasz 5 punktów; lepszy niż 'Average Global Movie Rating' - 7 punktów; lepszy niż wszystkie 4 przykładowe systemy - 10 punktów. Dodatkowo, jeżeli Twój system będzie jednym z najlepszych wśród implementacji kolegów z roku to otrzymasz:\n",
    "\n",
    " 1. miejsce - 25 punktów\n",
    " 2. miejsce - 20 punktów \n",
    " 3. miejsce - 15 punktów\n",
    "\n",
    " Przy czym, w przypadku wielu implementacji dających takie same wyniki, żeby otrzymać punkty za miejsce, system musi być lepszy, niż 6 najlepszy system (nie może remisować z systemem na pozycji 6).  \n",
    " \n",
    " Implementując swój system oceniający użyj następującej funkcji to string:\n",
    "\n",
    "```\n",
    "     def __str__(self):\n",
    "        return 'Dowolna nazwa (MOJ NUMER INDEKSU)'\n",
    "```"
   ]
  },
  {
   "cell_type": "code",
   "execution_count": 120,
   "metadata": {},
   "outputs": [],
   "source": [
    "class NaiveRating(RatingSystem):\n",
    "    def __init__(self):\n",
    "        super().__init__()\n",
    "    def rate(self, user, movie):\n",
    "        return 2.5\n",
    "    def __str__(self):\n",
    "        return 'Naive Rating'\n",
    "\n",
    "class AverageMovieRating(RatingSystem):\n",
    "    def __init__(self):\n",
    "        super().__init__()\n",
    "    def rate(self, user, movie):\n",
    "        n = len(self.movie_ratings[movie])\n",
    "        if n == 0:\n",
    "            return 2.5\n",
    "        else:\n",
    "            return sum(self.movie_ratings[movie])/n\n",
    "    def __str__(self):\n",
    "        return 'Average Movie Rating'\n",
    "class AverageUserRating(RatingSystem):\n",
    "    def __init__(self):\n",
    "        super().__init__()\n",
    "    def rate(self, user, movie):\n",
    "        n = len(user.ratings.values())\n",
    "        if n == 0:\n",
    "            return 2.5\n",
    "        else:\n",
    "            return sum(user.ratings.values())/n\n",
    "    def __str__(self):\n",
    "        return 'Average User Rating'\n",
    "\n",
    "class GlobalAverageMovieRating(RatingSystem):\n",
    "    def __init__(self):\n",
    "        super().__init__()\n",
    "        self.GlobalAverageMovieRating = 0\n",
    "        self.TotalMovies = 0\n",
    "        for movie in self.movie_ratings:\n",
    "            for rating  in self.movie_ratings[movie]:\n",
    "                self.GlobalAverageMovieRating += rating\n",
    "                self.TotalMovies += 1\n",
    "        self.GlobalAverageMovieRating /= self.TotalMovies\n",
    "\n",
    "    def rate(self, user, movie):\n",
    "        return self.GlobalAverageMovieRating\n",
    "    def __str__(self):\n",
    "        return 'Average Global Movie Rating'\n",
    "    \n",
    "class Cheater(RatingSystem):\n",
    "    def __init__(self):\n",
    "        super().__init__()\n",
    "\n",
    "    def rate(self, user, movie):\n",
    "        if movie in user.ratings:\n",
    "            return user.ratings[movie]\n",
    "        else:\n",
    "            return 2.5\n",
    "    def __str__(self):\n",
    "        return 'Cheater'\n"
   ]
  },
  {
   "cell_type": "markdown",
   "metadata": {},
   "source": [
    " ### Ocena systemów\n",
    "\n",
    " Poniższe klasy dotyczą oceny systemów - zwróć uwagę na parametr verbose, służy on do ograniczania informacji zwrotnej"
   ]
  },
  {
   "cell_type": "code",
   "execution_count": 123,
   "metadata": {},
   "outputs": [],
   "source": [
    "import copy\n",
    "class RatingSystemCompetition:\n",
    "    \n",
    "    def __init__(self):\n",
    "        self.registered_systems = []\n",
    "        self.users = {id : User.index[id] for id in User.index if id not in test_users}\n",
    "        self.verbose = 2\n",
    "    def register(self, system):\n",
    "        self.registered_systems.append(system)\n",
    "        \n",
    "    def build_round_robin(self):\n",
    "        self.pairs = {}\n",
    "        for system in self.registered_systems:\n",
    "            self.pairs[system]  = []\n",
    "            for competitor in self.registered_systems:\n",
    "                if str(system) != str(competitor):\n",
    "                    self.pairs[system].append((system, competitor))\n",
    "\n",
    "            \n",
    "    def runMatch(self, system, competitor):\n",
    "        users_ids = np.random.choice(np.array(list(self.users.keys())), size=100)\n",
    "        score = 0\n",
    "        wins = 0\n",
    "        loses = 0\n",
    "        draws = 0\n",
    "        for user_id in users_ids:\n",
    "            user = self.users[user_id]\n",
    "            user_copy = copy.deepcopy(self.users[user_id])\n",
    "            movie_id = np.random.choice(np.array(list(user.ratings.keys())), size=1)[0]\n",
    "            del user_copy.ratings[movie_id]\n",
    "            true_rating = self.users[user_id].ratings[movie_id]\n",
    "            system_rating = system.rate(user_copy,movie_id)\n",
    "            competitor_rating = competitor.rate(user_copy,movie_id)\n",
    "            \n",
    "            if abs(true_rating - system_rating) <  abs(true_rating - competitor_rating):\n",
    "                score += 1\n",
    "                wins += 1\n",
    "            elif abs(true_rating - system_rating) >  abs(true_rating - competitor_rating):\n",
    "                score -= 1\n",
    "                loses += 1\n",
    "            else:\n",
    "                draws += 1\n",
    "                \n",
    "        return score, wins, draws, loses\n",
    "    \n",
    "    def compete(self):\n",
    "        self.total_scores = {}\n",
    "        for system in self.pairs:\n",
    "            self.total_scores[system] = 0\n",
    "            if self.verbose >= 2: print(f'{system} analysis: ')\n",
    "            for matchup in self.pairs[system]:\n",
    "                score, wins, draws, loses = self.runMatch(matchup[0],matchup[1])\n",
    "                if self.verbose >= 2: print(f'{matchup[0]} vs {matchup[1]} : {score} ({wins} wins, {draws} draws, {loses} loses)')\n",
    "                self.total_scores[system] += score\n",
    "            if self.verbose >= 2: print(f'{system} score: {self.total_scores[system]}')\n",
    "        if self.verbose >= 1:\n",
    "            print('Final scores: ')\n",
    "            place = 1\n",
    "            for system in sorted(self.total_scores, key=self.total_scores.get, reverse=True):\n",
    "                print(f'{place}. {system}, {self.total_scores[system]} pkt')\n",
    "                place += 1\n",
    "            \n",
    "        \n",
    "            \n",
    "            \n",
    "            \n",
    "            \n",
    "    "
   ]
  },
  {
   "cell_type": "markdown",
   "metadata": {},
   "source": [
    " ### Przykładowa analiza"
   ]
  },
  {
   "cell_type": "code",
   "execution_count": 124,
   "metadata": {},
   "outputs": [
    {
     "name": "stderr",
     "output_type": "stream",
     "text": [
      "100%|██████████| 137495/137495 [00:02<00:00, 68283.99it/s]\n",
      "100%|██████████| 137495/137495 [00:01<00:00, 71485.70it/s]\n",
      "100%|██████████| 137495/137495 [00:01<00:00, 68858.31it/s]\n",
      "100%|██████████| 137495/137495 [00:02<00:00, 68361.36it/s]\n",
      "100%|██████████| 137495/137495 [00:01<00:00, 70676.25it/s]\n"
     ]
    },
    {
     "name": "stdout",
     "output_type": "stream",
     "text": [
      "Average Global Movie Rating analysis: \n",
      "Average Global Movie Rating vs Naive Rating : 34 (67 wins, 0 draws, 33 loses)\n",
      "Average Global Movie Rating vs Average Movie Rating : -8 (46 wins, 0 draws, 54 loses)\n",
      "Average Global Movie Rating vs Average User Rating : -18 (41 wins, 0 draws, 59 loses)\n",
      "Average Global Movie Rating vs Cheater : 30 (65 wins, 0 draws, 35 loses)\n",
      "Average Global Movie Rating score: 38\n",
      "Naive Rating analysis: \n",
      "Naive Rating vs Average Global Movie Rating : -26 (37 wins, 0 draws, 63 loses)\n",
      "Naive Rating vs Average Movie Rating : -58 (21 wins, 0 draws, 79 loses)\n",
      "Naive Rating vs Average User Rating : -53 (23 wins, 1 draws, 76 loses)\n",
      "Naive Rating vs Cheater : 0 (0 wins, 100 draws, 0 loses)\n",
      "Naive Rating score: -137\n",
      "Average Movie Rating analysis: \n",
      "Average Movie Rating vs Average Global Movie Rating : 44 (72 wins, 0 draws, 28 loses)\n",
      "Average Movie Rating vs Naive Rating : 54 (77 wins, 0 draws, 23 loses)\n",
      "Average Movie Rating vs Average User Rating : -2 (49 wins, 0 draws, 51 loses)\n",
      "Average Movie Rating vs Cheater : 58 (79 wins, 0 draws, 21 loses)\n",
      "Average Movie Rating score: 154\n",
      "Average User Rating analysis: \n",
      "Average User Rating vs Average Global Movie Rating : 18 (59 wins, 0 draws, 41 loses)\n",
      "Average User Rating vs Naive Rating : 44 (72 wins, 0 draws, 28 loses)\n",
      "Average User Rating vs Average Movie Rating : 2 (51 wins, 0 draws, 49 loses)\n",
      "Average User Rating vs Cheater : 51 (75 wins, 1 draws, 24 loses)\n",
      "Average User Rating score: 115\n",
      "Cheater analysis: \n",
      "Cheater vs Average Global Movie Rating : -20 (40 wins, 0 draws, 60 loses)\n",
      "Cheater vs Naive Rating : 0 (0 wins, 100 draws, 0 loses)\n",
      "Cheater vs Average Movie Rating : -46 (27 wins, 0 draws, 73 loses)\n",
      "Cheater vs Average User Rating : -40 (30 wins, 0 draws, 70 loses)\n",
      "Cheater score: -106\n",
      "Final scores: \n",
      "1. Average Movie Rating, 154 pkt\n",
      "2. Average User Rating, 115 pkt\n",
      "3. Average Global Movie Rating, 38 pkt\n",
      "4. Cheater, -106 pkt\n",
      "5. Naive Rating, -137 pkt\n"
     ]
    }
   ],
   "source": [
    "competition = RatingSystemCompetition()\n",
    "competition.register(GlobalAverageMovieRating())\n",
    "competition.register(NaiveRating())\n",
    "competition.register(AverageMovieRating())\n",
    "competition.register(AverageUserRating())\n",
    "competition.register(Cheater())\n",
    "competition.build_round_robin()\n",
    "competition.compete()"
   ]
  }
 ],
 "metadata": {
  "kernelspec": {
   "display_name": "Python 3",
   "language": "python",
   "name": "python3"
  },
  "language_info": {
   "codemirror_mode": {
    "name": "ipython",
    "version": 3
   },
   "file_extension": ".py",
   "mimetype": "text/x-python",
   "name": "python",
   "nbconvert_exporter": "python",
   "pygments_lexer": "ipython3",
   "version": "3.12.3"
  }
 },
 "nbformat": 4,
 "nbformat_minor": 2
}
